{
 "cells": [
  {
   "cell_type": "markdown",
   "metadata": {
    "colab_type": "text",
    "id": "A9v6gNRNF2QS"
   },
   "source": [
    "# Example code for training network with knowledge distillation\n",
    "This tutorial explains the code to train network with knowledge distillation. And to make easy to train a new model  yourself this tutorial is using Google Colab.\n",
    "\n",
    "Most of Knowledge distillation algorithm's training procedure is categorized in two manners. \n",
    "\n",
    "The first manner is initializing student network by teacher's knowledge such as FitNet, FSP, AB and so on. So their training procedure is composed by training teacher network, initializing student network and finetuning student network.\n",
    "\n",
    "The second manner is multi-task learning which learn main-task and teacher's knowledge at the same time such as Soft-logits, AT, KD-SVD and so on. And their training procedure is composed by training teacher network and training student network with teacher knowledge.\n",
    "\n",
    "But to make both training procedure possible by just one training code, I combine the initializing step and the finetuning step."
   ]
  },
  {
   "cell_type": "markdown",
   "metadata": {
    "colab_type": "text",
    "id": "bYxZQrgyKROU"
   },
   "source": [
    "# Cloning the Github codes\n",
    "The first step is cloning Github code repo. After running the bellow code you will find codes in 'File' tap."
   ]
  },
  {
   "cell_type": "code",
   "execution_count": null,
   "metadata": {
    "colab": {},
    "colab_type": "code",
    "id": "trlir3CQG1Sv"
   },
   "outputs": [],
   "source": [
    "!git clone https://github.com/sseung0703/Knowledge_distillation_methods_wtih_Tensorflow.git"
   ]
  },
  {
   "cell_type": "markdown",
   "metadata": {
    "colab_type": "text",
    "id": "KNm4Qv6gGA3x"
   },
   "source": [
    "#Training teacher network\n",
    "The next step is training the teacher network. teacher network is trained without any Distillation method. And define the main scope name as 'Teacher' to make easy to assign teacher parameters.\n",
    "below code is example to train new teacher network.\n",
    "\n",
    "In Google colab it takes about 2 hours. So if you have not enough time, you can skip this pass and use the trained parameter I uploaded."
   ]
  },
  {
   "cell_type": "code",
   "execution_count": null,
   "metadata": {
    "colab": {},
    "colab_type": "code",
    "id": "ORMTub2KJljo"
   },
   "outputs": [],
   "source": [
    "!python Knowledge_distillation_methods_wtih_Tensorflow/train_w_distill.py --Distillation=None --train_dir=test --main_scope=Teacher"
   ]
  },
  {
   "cell_type": "markdown",
   "metadata": {
    "colab_type": "text",
    "id": "ZnnsjlNyKGep"
   },
   "source": [
    "When training is done, you can find the trained parameter which named 'train_params.mat' in training directory.\n",
    "So copy that file to 'pre_trained' directory. So copy that file to 'pre_trained' directory by bellow code."
   ]
  },
  {
   "cell_type": "code",
   "execution_count": null,
   "metadata": {
    "colab": {},
    "colab_type": "code",
    "id": "pFrkaRI7Mgfb"
   },
   "outputs": [],
   "source": [
    "! cp test/train_params.mat Knowledge_distillation_methods_wtih_Tensorflow/pre_trained/ResNet_teacher.mat"
   ]
  },
  {
   "cell_type": "markdown",
   "metadata": {
    "colab_type": "text",
    "id": "w0VUzEWcMyG2"
   },
   "source": [
    "#Training Student Network with Teacher's Knowledge\n",
    "Finally,  we can train a student network with teacher knowledge. To use teacher network's parameter we have to define the name of the saved parameter and Distillation method.\n",
    "For example, I define name as ResNet_teacher which defined above and Distillation method as RKD which is the latest method in my experiments. In my experiment, KD-SVD is the best method, but KD-SVD is the slowest one in implemented methods. And Google colab's memory bottleneck is worse than real hardware. So if you want to try KD-SVD you should try in your own's hardware.  \n",
    "\n",
    "And if you use provided weights, remove teacher FLAG.\n",
    "\n"
   ]
  },
  {
   "cell_type": "code",
   "execution_count": null,
   "metadata": {
    "colab": {},
    "colab_type": "code",
    "id": "YsMHosFhN7YC"
   },
   "outputs": [],
   "source": [
    "!python train_w_distill.py --Distillation=SVD-PLUS --train_dir=kdsvd --main_scope=Student_w_KD-SVD"
   ]
  }
 ],
 "metadata": {
  "accelerator": "GPU",
  "colab": {
   "collapsed_sections": [],
   "name": "tutorial.ipynb의 사본",
   "provenance": [],
   "toc_visible": true,
   "version": "0.3.2"
  },
  "kernelspec": {
   "display_name": "Python 3",
   "language": "python",
   "name": "python3"
  },
  "language_info": {
   "codemirror_mode": {
    "name": "ipython",
    "version": 3
   },
   "file_extension": ".py",
   "mimetype": "text/x-python",
   "name": "python",
   "nbconvert_exporter": "python",
   "pygments_lexer": "ipython3",
   "version": "3.8.5"
  }
 },
 "nbformat": 4,
 "nbformat_minor": 4
}
